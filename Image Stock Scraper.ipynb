{
 "cells": [
  {
   "cell_type": "markdown",
   "id": "88952394",
   "metadata": {},
   "source": [
    "# Author: Shashank Chhoker"
   ]
  },
  {
   "cell_type": "markdown",
   "id": "8a6e9f70",
   "metadata": {},
   "source": [
    "# Stock Image Scraper"
   ]
  },
  {
   "cell_type": "code",
   "execution_count": null,
   "id": "4b7efaa3",
   "metadata": {},
   "outputs": [],
   "source": [
    "# Import necessary libraries\n",
    "import numpy as np\n",
    "import pandas as pd\n",
    "\n",
    "from bs4 import BeautifulSoup\n",
    "from selenium import webdriver\n",
    "import chromedriver_binary"
   ]
  },
  {
   "cell_type": "code",
   "execution_count": null,
   "id": "7342a6d3",
   "metadata": {},
   "outputs": [],
   "source": [
    "# Specify the URL you want to scrape\n",
    "link = 'https://stock-pictures.netlify.app'"
   ]
  },
  {
   "cell_type": "code",
   "execution_count": null,
   "id": "718ba5e9",
   "metadata": {},
   "outputs": [],
   "source": [
    "# Initialize a Chrome WebDriver\n",
    "driver = webdriver.Chrome()\n",
    "driver.get(link)"
   ]
  },
  {
   "cell_type": "code",
   "execution_count": null,
   "id": "7398479b",
   "metadata": {},
   "outputs": [],
   "source": [
    "# Parse the webpage content with BeautifulSoup\n",
    "soup= BeautifulSoup(driver.page_source,\"html.parser\")"
   ]
  },
  {
   "cell_type": "code",
   "execution_count": null,
   "id": "98f7353e",
   "metadata": {},
   "outputs": [],
   "source": [
    "# Make the HTML content more readable (prettify)\n",
    "soup.prettify"
   ]
  },
  {
   "cell_type": "code",
   "execution_count": null,
   "id": "cd5efe0a",
   "metadata": {},
   "outputs": [],
   "source": [
    "# Create an empty list to store the scraped data\n",
    "data=[]\n",
    "for sp in soup.find_all('div',class_='container'):\n",
    "    \n",
    "   \n",
    "    \n",
    "    if ('gif' not in sp.find('img').get('src')):\n",
    "        \n",
    "        link=sp.find('img').get('src')\n",
    "        \n",
    "        tags = list(set(sp.find('div',class_ = 'tags').text[7:].split(' ')))\n",
    "        \n",
    "        likes = int(sp.find('div',class_ = 'likes-comments').find_all('span')[0].text[:-6])\n",
    "        comments =int(sp.find('div',class_ = 'likes-comments').find_all('span')[1].text[:-9])\n",
    "        \n",
    "        sp.find(' ')\n",
    "        data.append([link, ' '.join(tags),likes,comments])\n",
    "        \n",
    "        "
   ]
  },
  {
   "cell_type": "code",
   "execution_count": null,
   "id": "8acf1088",
   "metadata": {},
   "outputs": [],
   "source": [
    "# Create an empty list to store the scraped data\n",
    "data"
   ]
  },
  {
   "cell_type": "code",
   "execution_count": null,
   "id": "f64633cd",
   "metadata": {},
   "outputs": [],
   "source": [
    "# Loop through all the div elements with the class 'container'\n"
   ]
  },
  {
   "cell_type": "code",
   "execution_count": null,
   "id": "78a59888",
   "metadata": {},
   "outputs": [],
   "source": [
    "\"\"\" \n",
    "for sp in soup.find_all('div',class_ = 'container'):\n",
    "    tags = list(set(sp.find('div',class_ = 'tags').text[7:].split(' ')))\n",
    "    print(tags)\n",
    "    \n",
    "\"\"\"\n",
    "    "
   ]
  },
  {
   "cell_type": "code",
   "execution_count": null,
   "id": "f42b8cb5",
   "metadata": {},
   "outputs": [],
   "source": [
    "\"\"\"\n",
    "for sp in soup.find_all('div',class_ = 'container'):\n",
    "    likes = int(sp.find('div',class_ = 'likes-comments').find_all('span')[0].text[:-6])\n",
    "    comments =int(sp.find('div',class_ = 'likes-comments').find_all('span')[1].text[:-9])\n",
    "    print(likes,comments)\n",
    "    #break \n",
    "\"\"\""
   ]
  },
  {
   "cell_type": "code",
   "execution_count": null,
   "id": "81f85d95",
   "metadata": {},
   "outputs": [],
   "source": [
    "\n",
    "# Create a Pandas DataFrame from the collected data\n",
    "df=pd.DataFrame(data,columns = ['Link', 'Tags' ,'Likes','Comments'])"
   ]
  },
  {
   "cell_type": "code",
   "execution_count": null,
   "id": "c53f6d23",
   "metadata": {},
   "outputs": [],
   "source": [
    "# Display the DataFrame\n",
    "df"
   ]
  },
  {
   "cell_type": "code",
   "execution_count": null,
   "id": "1a0befbb",
   "metadata": {},
   "outputs": [],
   "source": [
    "# Check for any missing data (null values)\n",
    "df.isnull().sum()"
   ]
  },
  {
   "cell_type": "code",
   "execution_count": null,
   "id": "9a9a3b0b",
   "metadata": {},
   "outputs": [],
   "source": [
    "# Save the DataFrame to a CSV file\n",
    "df"
   ]
  },
  {
   "cell_type": "code",
   "execution_count": null,
   "id": "78d3b3e2",
   "metadata": {},
   "outputs": [],
   "source": [
    "df.to_csv('data.csv',index=False)"
   ]
  },
  {
   "cell_type": "code",
   "execution_count": null,
   "id": "373b8cef",
   "metadata": {},
   "outputs": [],
   "source": []
  }
 ],
 "metadata": {
  "kernelspec": {
   "display_name": "Python 3 (ipykernel)",
   "language": "python",
   "name": "python3"
  },
  "language_info": {
   "codemirror_mode": {
    "name": "ipython",
    "version": 3
   },
   "file_extension": ".py",
   "mimetype": "text/x-python",
   "name": "python",
   "nbconvert_exporter": "python",
   "pygments_lexer": "ipython3",
   "version": "3.11.1"
  }
 },
 "nbformat": 4,
 "nbformat_minor": 5
}
